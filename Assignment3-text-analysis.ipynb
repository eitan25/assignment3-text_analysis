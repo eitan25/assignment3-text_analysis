{
 "cells": [
  {
   "cell_type": "markdown",
   "metadata": {},
   "source": [
    "# Assignment 3 - Text Analysis\n",
    "An explanation this assignment could be found in the .pdf explanation document"
   ]
  },
  {
   "cell_type": "markdown",
   "metadata": {},
   "source": [
    "\n",
    "## Materials to review for this assignment\n",
    "<h4>From Moodle:</h4> \n",
    "<h5><u>Review the notebooks regarding the following python topics</u>:</h5>\n",
    "<div class=\"alert alert-info\">\n",
    "&#x2714; <b>Working with strings</b> (tutorial notebook)<br/>\n",
    "&#x2714; <b>Text Analysis</b> (tutorial notebook)<br/>\n",
    "&#x2714; <b>Hebrew text analysis tools (tokenizer, wordnet)</b> (moodle example)<br/>\n",
    "&#x2714; <b>(brief review) All previous notebooks</b><br/>\n",
    "</div> \n",
    "<h5><u>Review the presentations regarding the following topics</u>:</h5>\n",
    "<div class=\"alert alert-info\">\n",
    "&#x2714; <b>Text Analysis</b> (lecture presentation)<br/>\n",
    "&#x2714; <b>(brief review) All other presentations</b><br/>\n",
    "</div>"
   ]
  },
  {
   "cell_type": "markdown",
   "metadata": {},
   "source": [
    "## Personal Details:"
   ]
  },
  {
   "cell_type": "code",
   "execution_count": 1,
   "metadata": {},
   "outputs": [],
   "source": [
    "# Details Student 1:\n",
    "\n",
    "# Details Student 2:\n"
   ]
  },
  {
   "cell_type": "markdown",
   "metadata": {},
   "source": [
    "## Preceding Step - import modules (packages)\n",
    "This step is necessary in order to use external modules (packages). <br/>"
   ]
  },
  {
   "cell_type": "code",
   "execution_count": 2,
   "metadata": {},
   "outputs": [],
   "source": [
    "# --------------------------------------\n",
    "import pandas as pd\n",
    "import numpy as np\n",
    "# --------------------------------------\n",
    "\n",
    "\n",
    "# --------------------------------------\n",
    "# ------------- visualizations:\n",
    "import seaborn as sns\n",
    "import matplotlib.pyplot as plt\n",
    "from matplotlib.colors import ListedColormap\n",
    "# --------------------------------------\n",
    "\n",
    "\n",
    "# ---------------------------------------\n",
    "import sklearn\n",
    "from sklearn import preprocessing, metrics, pipeline, model_selection, feature_extraction \n",
    "from sklearn import naive_bayes, linear_model, svm, neural_network, neighbors, tree\n",
    "from sklearn import decomposition, cluster\n",
    "\n",
    "from sklearn.model_selection import train_test_split, cross_val_score, GridSearchCV \n",
    "from sklearn.pipeline import Pipeline\n",
    "from sklearn.metrics import accuracy_score, confusion_matrix\n",
    "from sklearn.metrics import precision_score, recall_score, f1_score, classification_report\n",
    "from sklearn.metrics import mean_squared_error, r2_score, silhouette_score\n",
    "from sklearn.preprocessing import MinMaxScaler, StandardScaler, LabelEncoder\n",
    "\n",
    "from sklearn.svm import LinearSVC\n",
    "from sklearn.neural_network import MLPClassifier\n",
    "from sklearn.linear_model import Perceptron, SGDClassifier\n",
    "from sklearn.decomposition import PCA\n",
    "from sklearn.cluster import KMeans\n",
    "from sklearn.naive_bayes import MultinomialNB, GaussianNB\n",
    "from sklearn.neighbors import KNeighborsClassifier\n",
    "from sklearn.tree import DecisionTreeClassifier\n",
    "# ---------------------------------------\n",
    "\n",
    "\n",
    "# ----------------- output and visualizations: \n",
    "import warnings\n",
    "from sklearn.exceptions import ConvergenceWarning\n",
    "warnings.simplefilter(\"ignore\")\n",
    "warnings.simplefilter(action='ignore', category=FutureWarning)\n",
    "warnings.simplefilter(\"ignore\", category=ConvergenceWarning)\n",
    "# show several prints in one cell. This will allow us to condence every trick in one cell.\n",
    "from IPython.core.interactiveshell import InteractiveShell\n",
    "InteractiveShell.ast_node_interactivity = \"all\"\n",
    "%matplotlib inline\n",
    "pd.pandas.set_option('display.max_columns', None)\n",
    "pd.set_option('display.float_format', lambda x: '%.3f' % x)\n",
    "# ---------------------------------------"
   ]
  },
  {
   "cell_type": "markdown",
   "metadata": {},
   "source": [
    "### Text analysis and String manipulation imports:"
   ]
  },
  {
   "cell_type": "code",
   "execution_count": 3,
   "metadata": {},
   "outputs": [],
   "source": [
    "# --------------------------------------\n",
    "# --------- Text analysis and Hebrew text analysis imports:\n",
    "# vectorizers:\n",
    "from sklearn.feature_extraction import text\n",
    "from sklearn.feature_extraction.text import CountVectorizer, TfidfVectorizer\n",
    "\n",
    "# regular expressions:\n",
    "import re\n",
    "# --------------------------------------"
   ]
  },
  {
   "cell_type": "markdown",
   "metadata": {},
   "source": [
    "### (optional) Hebrew text analysis - WordNet (for Hebrew)\n",
    "Note: the WordNet is not a must"
   ]
  },
  {
   "cell_type": "markdown",
   "metadata": {},
   "source": [
    "#### (optional) Only if you didn't install Wordnet (for Hebrew) use:"
   ]
  },
  {
   "cell_type": "code",
   "execution_count": 4,
   "metadata": {},
   "outputs": [],
   "source": [
    "# word net installation:\n",
    "\n",
    "# unmark if you want to use and need to install\n",
    "# !pip install wn\n",
    "# !python -m wn download omw-he:1.4"
   ]
  },
  {
   "cell_type": "code",
   "execution_count": 5,
   "metadata": {},
   "outputs": [],
   "source": [
    "# word net import:\n",
    "\n",
    "# unmark if you want to use:\n",
    "# import wn"
   ]
  },
  {
   "cell_type": "markdown",
   "metadata": {},
   "source": [
    "### (optional) Hebrew text analysis - hebrew_tokenizer (Tokenizer for Hebrew)\n",
    "Note: the hebrew_tokenizer is not a must"
   ]
  },
  {
   "cell_type": "markdown",
   "metadata": {},
   "source": [
    "#### (optional) Only if you didn't install hebrew_tokenizer use:"
   ]
  },
  {
   "cell_type": "code",
   "execution_count": 6,
   "metadata": {},
   "outputs": [],
   "source": [
    "# Hebrew tokenizer installation:\n",
    "\n",
    "# unmark if you want to use and need to install:\n",
    "# !pip install hebrew_tokenizer"
   ]
  },
  {
   "cell_type": "code",
   "execution_count": 7,
   "metadata": {},
   "outputs": [
    {
     "name": "stdout",
     "output_type": "stream",
     "text": [
      "C:\\Users\\aytan\\Desktop\\למידת מכונה\\משימה 3\\assignment3-text_analysis\n"
     ]
    }
   ],
   "source": [
    "# Hebrew tokenizer import:\n",
    "\n",
    "# unmark if you want to use:\n",
    "import hebrew_tokenizer as ht"
   ]
  },
  {
   "cell_type": "markdown",
   "metadata": {},
   "source": [
    "### Reading input files\n",
    "Reading input files for train annotated corpus (raw text data) corpus and for the test corpus"
   ]
  },
  {
   "cell_type": "code",
   "execution_count": 8,
   "metadata": {},
   "outputs": [],
   "source": [
    "train_filename = 'annotated_corpus_for_train.csv'\n",
    "test_filename  = 'corpus_for_test.csv'\n",
    "df_train = pd.read_csv(train_filename, index_col=None, encoding='utf-8')\n",
    "df_test  = pd.read_csv(test_filename, index_col=None, encoding='utf-8')"
   ]
  },
  {
   "cell_type": "code",
   "execution_count": 9,
   "metadata": {},
   "outputs": [
    {
     "data": {
      "text/html": [
       "<div>\n",
       "<style scoped>\n",
       "    .dataframe tbody tr th:only-of-type {\n",
       "        vertical-align: middle;\n",
       "    }\n",
       "\n",
       "    .dataframe tbody tr th {\n",
       "        vertical-align: top;\n",
       "    }\n",
       "\n",
       "    .dataframe thead th {\n",
       "        text-align: right;\n",
       "    }\n",
       "</style>\n",
       "<table border=\"1\" class=\"dataframe\">\n",
       "  <thead>\n",
       "    <tr style=\"text-align: right;\">\n",
       "      <th></th>\n",
       "      <th>story</th>\n",
       "      <th>gender</th>\n",
       "    </tr>\n",
       "  </thead>\n",
       "  <tbody>\n",
       "    <tr>\n",
       "      <th>0</th>\n",
       "      <td>כשחבר הזמין אותי לחול, לא באמת חשבתי שזה יקרה,...</td>\n",
       "      <td>m</td>\n",
       "    </tr>\n",
       "    <tr>\n",
       "      <th>1</th>\n",
       "      <td>לפני שהתגייסתי לצבא עשיתי כל מני מיונים ליחידו...</td>\n",
       "      <td>m</td>\n",
       "    </tr>\n",
       "    <tr>\n",
       "      <th>2</th>\n",
       "      <td>מאז שהתחילו הלימודים חלומו של כל סטודנט זה הפנ...</td>\n",
       "      <td>f</td>\n",
       "    </tr>\n",
       "    <tr>\n",
       "      <th>3</th>\n",
       "      <td>כשהייתי ילד, מטוסים היה הדבר שהכי ריתק אותי. ב...</td>\n",
       "      <td>m</td>\n",
       "    </tr>\n",
       "    <tr>\n",
       "      <th>4</th>\n",
       "      <td>‏הייתי מדריכה בכפר נוער ומתאם הכפר היינו צריכי...</td>\n",
       "      <td>f</td>\n",
       "    </tr>\n",
       "    <tr>\n",
       "      <th>5</th>\n",
       "      <td>לפני כ3 חודשים טסתי לרומא למשך שבוע. טסתי במטו...</td>\n",
       "      <td>f</td>\n",
       "    </tr>\n",
       "    <tr>\n",
       "      <th>6</th>\n",
       "      <td>אני כבר שנתיים נשוי והשנה אני ואישתי סוף סוף י...</td>\n",
       "      <td>m</td>\n",
       "    </tr>\n",
       "    <tr>\n",
       "      <th>7</th>\n",
       "      <td>השנה התחלנו שיפוץ בדירה שלנו בתל אביב. הדירה ה...</td>\n",
       "      <td>f</td>\n",
       "    </tr>\n",
       "  </tbody>\n",
       "</table>\n",
       "</div>"
      ],
      "text/plain": [
       "                                               story gender\n",
       "0  כשחבר הזמין אותי לחול, לא באמת חשבתי שזה יקרה,...      m\n",
       "1  לפני שהתגייסתי לצבא עשיתי כל מני מיונים ליחידו...      m\n",
       "2  מאז שהתחילו הלימודים חלומו של כל סטודנט זה הפנ...      f\n",
       "3  כשהייתי ילד, מטוסים היה הדבר שהכי ריתק אותי. ב...      m\n",
       "4  ‏הייתי מדריכה בכפר נוער ומתאם הכפר היינו צריכי...      f\n",
       "5  לפני כ3 חודשים טסתי לרומא למשך שבוע. טסתי במטו...      f\n",
       "6  אני כבר שנתיים נשוי והשנה אני ואישתי סוף סוף י...      m\n",
       "7  השנה התחלנו שיפוץ בדירה שלנו בתל אביב. הדירה ה...      f"
      ]
     },
     "execution_count": 9,
     "metadata": {},
     "output_type": "execute_result"
    },
    {
     "data": {
      "text/plain": [
       "(753, 2)"
      ]
     },
     "execution_count": 9,
     "metadata": {},
     "output_type": "execute_result"
    }
   ],
   "source": [
    "df_train.head(8)\n",
    "df_train.shape"
   ]
  },
  {
   "cell_type": "code",
   "execution_count": 10,
   "metadata": {},
   "outputs": [
    {
     "data": {
      "text/html": [
       "<div>\n",
       "<style scoped>\n",
       "    .dataframe tbody tr th:only-of-type {\n",
       "        vertical-align: middle;\n",
       "    }\n",
       "\n",
       "    .dataframe tbody tr th {\n",
       "        vertical-align: top;\n",
       "    }\n",
       "\n",
       "    .dataframe thead th {\n",
       "        text-align: right;\n",
       "    }\n",
       "</style>\n",
       "<table border=\"1\" class=\"dataframe\">\n",
       "  <thead>\n",
       "    <tr style=\"text-align: right;\">\n",
       "      <th></th>\n",
       "      <th>test_example_id</th>\n",
       "      <th>story</th>\n",
       "    </tr>\n",
       "  </thead>\n",
       "  <tbody>\n",
       "    <tr>\n",
       "      <th>0</th>\n",
       "      <td>0</td>\n",
       "      <td>כל קיץ אני והמשפחה נוסעים לארצות הברית לוס אנג...</td>\n",
       "    </tr>\n",
       "    <tr>\n",
       "      <th>1</th>\n",
       "      <td>1</td>\n",
       "      <td>הגעתי לשירות המדינה אחרי שנתיים כפעיל בתנועת \"...</td>\n",
       "    </tr>\n",
       "    <tr>\n",
       "      <th>2</th>\n",
       "      <td>2</td>\n",
       "      <td>אחת האהבות הגדולות שלי אלו הכלבים שלי ושל אישת...</td>\n",
       "    </tr>\n",
       "  </tbody>\n",
       "</table>\n",
       "</div>"
      ],
      "text/plain": [
       "   test_example_id                                              story\n",
       "0                0  כל קיץ אני והמשפחה נוסעים לארצות הברית לוס אנג...\n",
       "1                1  הגעתי לשירות המדינה אחרי שנתיים כפעיל בתנועת \"...\n",
       "2                2  אחת האהבות הגדולות שלי אלו הכלבים שלי ושל אישת..."
      ]
     },
     "execution_count": 10,
     "metadata": {},
     "output_type": "execute_result"
    },
    {
     "data": {
      "text/plain": [
       "(323, 2)"
      ]
     },
     "execution_count": 10,
     "metadata": {},
     "output_type": "execute_result"
    }
   ],
   "source": [
    "df_test.head(3)\n",
    "df_test.shape"
   ]
  },
  {
   "cell_type": "markdown",
   "metadata": {},
   "source": [
    "### Your implementation:\n",
    "Write your code solution in the following code-cells"
   ]
  },
  {
   "cell_type": "code",
   "execution_count": 11,
   "metadata": {},
   "outputs": [
    {
     "data": {
      "text/html": [
       "<div>\n",
       "<style scoped>\n",
       "    .dataframe tbody tr th:only-of-type {\n",
       "        vertical-align: middle;\n",
       "    }\n",
       "\n",
       "    .dataframe tbody tr th {\n",
       "        vertical-align: top;\n",
       "    }\n",
       "\n",
       "    .dataframe thead th {\n",
       "        text-align: right;\n",
       "    }\n",
       "</style>\n",
       "<table border=\"1\" class=\"dataframe\">\n",
       "  <thead>\n",
       "    <tr style=\"text-align: right;\">\n",
       "      <th></th>\n",
       "      <th>0</th>\n",
       "      <th>gender</th>\n",
       "    </tr>\n",
       "  </thead>\n",
       "  <tbody>\n",
       "    <tr>\n",
       "      <th>0</th>\n",
       "      <td>0</td>\n",
       "      <td>m</td>\n",
       "    </tr>\n",
       "    <tr>\n",
       "      <th>1</th>\n",
       "      <td>0</td>\n",
       "      <td>m</td>\n",
       "    </tr>\n",
       "    <tr>\n",
       "      <th>2</th>\n",
       "      <td>1</td>\n",
       "      <td>f</td>\n",
       "    </tr>\n",
       "    <tr>\n",
       "      <th>3</th>\n",
       "      <td>0</td>\n",
       "      <td>m</td>\n",
       "    </tr>\n",
       "    <tr>\n",
       "      <th>4</th>\n",
       "      <td>1</td>\n",
       "      <td>f</td>\n",
       "    </tr>\n",
       "    <tr>\n",
       "      <th>...</th>\n",
       "      <td>...</td>\n",
       "      <td>...</td>\n",
       "    </tr>\n",
       "    <tr>\n",
       "      <th>748</th>\n",
       "      <td>0</td>\n",
       "      <td>m</td>\n",
       "    </tr>\n",
       "    <tr>\n",
       "      <th>749</th>\n",
       "      <td>0</td>\n",
       "      <td>m</td>\n",
       "    </tr>\n",
       "    <tr>\n",
       "      <th>750</th>\n",
       "      <td>0</td>\n",
       "      <td>m</td>\n",
       "    </tr>\n",
       "    <tr>\n",
       "      <th>751</th>\n",
       "      <td>1</td>\n",
       "      <td>f</td>\n",
       "    </tr>\n",
       "    <tr>\n",
       "      <th>752</th>\n",
       "      <td>0</td>\n",
       "      <td>m</td>\n",
       "    </tr>\n",
       "  </tbody>\n",
       "</table>\n",
       "<p>753 rows × 2 columns</p>\n",
       "</div>"
      ],
      "text/plain": [
       "     0 gender\n",
       "0    0      m\n",
       "1    0      m\n",
       "2    1      f\n",
       "3    0      m\n",
       "4    1      f\n",
       "..  ..    ...\n",
       "748  0      m\n",
       "749  0      m\n",
       "750  0      m\n",
       "751  1      f\n",
       "752  0      m\n",
       "\n",
       "[753 rows x 2 columns]"
      ]
     },
     "execution_count": 11,
     "metadata": {},
     "output_type": "execute_result"
    }
   ],
   "source": [
    "# create the numeric label and visualize in one table with categorical lables (m=0, f=1)\n",
    "y = pd.Series(df_train.gender.factorize()[0])\n",
    "df_y = pd.concat([y, df_train.gender], axis=1)\n",
    "df_y"
   ]
  },
  {
   "cell_type": "markdown",
   "metadata": {},
   "source": [
    "# first try with fold out for self understending and general methods build"
   ]
  },
  {
   "cell_type": "code",
   "execution_count": 12,
   "metadata": {},
   "outputs": [],
   "source": [
    "# split train corpus for train and test\n",
    "# the story col is the corpus, the y is the factorized categories (m=0, f=1)\n",
    "X_train, X_test, y_train, y_test = train_test_split(\n",
    "    df_train.story, y, test_size=0.20, random_state=42)"
   ]
  },
  {
   "cell_type": "code",
   "execution_count": 13,
   "metadata": {},
   "outputs": [],
   "source": [
    "# YOUR CODE HERE\n",
    "\n",
    "# tokenize story\n",
    "def story_tokanize(story):\n",
    "    tok_stor = ht.tokenize(story)\n",
    "    tok_stor_list = []\n",
    "    for tok in tok_stor:\n",
    "        # remove all the the non\n",
    "        if(tok[0] != 'HEBREW'):\n",
    "            continue\n",
    "        tok_stor_list.append(tok[1])\n",
    "    tok_stor = [\" \".join(tokens) for tokens in tok_stor_list]\n",
    "    return tok_stor"
   ]
  },
  {
   "cell_type": "code",
   "execution_count": 14,
   "metadata": {},
   "outputs": [],
   "source": [
    "# after first vectorization with to much columns, i decided to nurrow to 10k features only \n",
    "# (originaly more then 20k with 1gram and more then 90k with 1grams)\n",
    "\n",
    "vectorizer = CountVectorizer(ngram_range=(1,1), max_features=10000, tokenizer=story_tokanize)"
   ]
  },
  {
   "cell_type": "code",
   "execution_count": 15,
   "metadata": {},
   "outputs": [],
   "source": [
    "# choosing the best parameters for the classifier\n",
    "from sklearn.metrics import make_scorer\n",
    "clf_dt = GridSearchCV(estimator=DecisionTreeClassifier(),\n",
    "                      param_grid={'max_depth':[2,3,4,5,6,8,10],\n",
    "                                  \"min_samples_split\":[3,5,8,10,15,20],\n",
    "                                  'min_samples_leaf':[1,2,3,4,5]},\n",
    "                      scoring=make_scorer(metrics.f1_score, greater_is_better=True),\n",
    "                      n_jobs=-1)"
   ]
  },
  {
   "cell_type": "code",
   "execution_count": 16,
   "metadata": {},
   "outputs": [
    {
     "data": {
      "text/plain": [
       "Pipeline(steps=[('vect',\n",
       "                 CountVectorizer(max_features=10000,\n",
       "                                 tokenizer=<function story_tokanize at 0x0000016E42657430>)),\n",
       "                ('norm', Normalizer(norm='l1')),\n",
       "                ('clf_dt',\n",
       "                 GridSearchCV(estimator=DecisionTreeClassifier(), n_jobs=-1,\n",
       "                              param_grid={'max_depth': [2, 3, 4, 5, 6, 8, 10],\n",
       "                                          'min_samples_leaf': [1, 2, 3, 4, 5],\n",
       "                                          'min_samples_split': [3, 5, 8, 10, 15,\n",
       "                                                                20]},\n",
       "                              scoring=make_scorer(f1_score)))])"
      ]
     },
     "execution_count": 16,
     "metadata": {},
     "output_type": "execute_result"
    },
    {
     "name": "stdout",
     "output_type": "stream",
     "text": [
      "macro avarage is: 0.6599099099099099\n"
     ]
    }
   ],
   "source": [
    "# define pipeline for decision tree\n",
    "text_clf = Pipeline([\n",
    "    ('vect', vectorizer), # the vectorizer defined above\n",
    "    ('norm', preprocessing.Normalizer(norm='l1')),\n",
    "    ('clf_dt', clf_dt)\n",
    "])\n",
    "text_clf.fit(X_train, y_train)\n",
    "predicted = text_clf.predict(X_test)\n",
    "print(f'macro avarage is: {f1_score(y_true=y_test, y_pred=predicted, average=\"macro\")}')"
   ]
  },
  {
   "cell_type": "code",
   "execution_count": 17,
   "metadata": {},
   "outputs": [
    {
     "data": {
      "text/plain": [
       "Pipeline(steps=[('vect',\n",
       "                 CountVectorizer(max_features=10000,\n",
       "                                 tokenizer=<function story_tokanize at 0x0000016E42657430>)),\n",
       "                ('norm', Normalizer(norm='l1')),\n",
       "                ('clf_dt',\n",
       "                 GridSearchCV(estimator=DecisionTreeClassifier(), n_jobs=-1,\n",
       "                              param_grid={'max_depth': [2, 4, 6, 10],\n",
       "                                          'min_samples_leaf': [1, 3, 5],\n",
       "                                          'min_samples_split': [3, 6, 9, 12,\n",
       "                                                                16]},\n",
       "                              scoring=make_scorer(f1_score)))])"
      ]
     },
     "execution_count": 17,
     "metadata": {},
     "output_type": "execute_result"
    },
    {
     "name": "stdout",
     "output_type": "stream",
     "text": [
      "macro avarage is: 0.6466748768472906\n"
     ]
    }
   ],
   "source": [
    "# test only to narrow the grid search\n",
    "clf_dt = GridSearchCV(estimator=DecisionTreeClassifier(),\n",
    "                      param_grid={'max_depth':[2,4,6,10],\n",
    "                                  \"min_samples_split\":[3,6,9,12,16],\n",
    "                                  'min_samples_leaf':[1,3,5]},\n",
    "                      scoring=make_scorer(metrics.f1_score, greater_is_better=True),\n",
    "                      n_jobs=-1)\n",
    "# define pipeline for decision tree\n",
    "text_clf = Pipeline([\n",
    "    ('vect', vectorizer), # the vectorizer defined above\n",
    "    ('norm', preprocessing.Normalizer(norm='l1')),\n",
    "    ('clf_dt', clf_dt)\n",
    "])\n",
    "text_clf.fit(X_train, y_train)\n",
    "predicted = text_clf.predict(X_test)\n",
    "print(f'macro avarage is: {f1_score(y_true=y_test, y_pred=predicted, average=\"macro\")}')"
   ]
  },
  {
   "cell_type": "markdown",
   "metadata": {},
   "source": [
    "# Estimating with 10 fold cross validation\n",
    "\n",
    "Trying different models and hyperparameters.\n",
    "Highest average (of all folds) macro f1 score of all model will determine wich model is better."
   ]
  },
  {
   "cell_type": "code",
   "execution_count": 18,
   "metadata": {},
   "outputs": [],
   "source": [
    "# calc avg f1 = (f1_male + f1_female)/2 and present it\n",
    "def model_estimation(text_clf, X, y):\n",
    "    cv_arr = cross_val_score(text_clf, X, y, cv=10, n_jobs=-1, scoring='f1_macro')\n",
    "    print('array of macro avarages of the model is:')\n",
    "    print(cv_arr)\n",
    "    print(f'mean of all macro f_score is: {cv_arr.mean()}')"
   ]
  },
  {
   "cell_type": "markdown",
   "metadata": {},
   "source": [
    "# Decision Tree Model"
   ]
  },
  {
   "cell_type": "code",
   "execution_count": 19,
   "metadata": {},
   "outputs": [
    {
     "name": "stdout",
     "output_type": "stream",
     "text": [
      "array of macro avarages of the model is:\n",
      "[0.67099567 0.57451346 0.703125   0.58333333 0.65277778 0.52574526\n",
      " 0.54166667 0.58333333 0.69503931 0.47306792]\n",
      "mean of all macro f_score is: 0.6003597724371734\n"
     ]
    }
   ],
   "source": [
    "############################ cross validation ###################################\n",
    "\n",
    "# y is the class series (m=0,f=1)\n",
    "# df_train.story is the X\n",
    "X = df_train.story\n",
    "\n",
    "# desition tree (grid searched parameters)\n",
    "# CountVectorizer vectorization with 1gram\n",
    "# hebrew_tokanization and saving hebrow only\n",
    "model_estimation(text_clf, X, y)"
   ]
  },
  {
   "cell_type": "code",
   "execution_count": 21,
   "metadata": {},
   "outputs": [
    {
     "name": "stdout",
     "output_type": "stream",
     "text": [
      "array of macro avarages of the model is:\n",
      "[0.54519685 0.52167832 0.60416667 0.50396825 0.62779156 0.50840695\n",
      " 0.4882134  0.496      0.592      0.64247881]\n",
      "mean of all macro f_score is: 0.5529900822593441\n"
     ]
    }
   ],
   "source": [
    "# define pipeline for decision tree - ngram changed to (1,2)gram\n",
    "text_clf = Pipeline([\n",
    "    ('vect', CountVectorizer(ngram_range=(1,2), max_features=10000, tokenizer=story_tokanize)),\n",
    "    ('norm', preprocessing.Normalizer(norm='l1')),\n",
    "    ('clf_dt', clf_dt)\n",
    "])\n",
    "model_estimation(text_clf, X, y)"
   ]
  },
  {
   "cell_type": "code",
   "execution_count": 22,
   "metadata": {},
   "outputs": [
    {
     "name": "stdout",
     "output_type": "stream",
     "text": [
      "array of macro avarages of the model is:\n",
      "[0.56221198 0.52711111 0.56454331 0.58126551 0.67939584 0.58333333\n",
      " 0.60480094 0.544      0.60480094 0.50396825]\n",
      "mean of all macro f_score is: 0.5755431211211609\n"
     ]
    }
   ],
   "source": [
    "# define pipeline for decision tree - ngram changed to (1,2)gram, vectorization canged to tfidf\n",
    "text_clf = Pipeline([\n",
    "    ('vect', TfidfVectorizer(ngram_range=(1,2), max_features=10000, tokenizer=story_tokanize)),\n",
    "    ('norm', preprocessing.Normalizer(norm='l1')),\n",
    "    ('clf_dt', clf_dt)\n",
    "])\n",
    "model_estimation(text_clf, X, y)"
   ]
  },
  {
   "cell_type": "markdown",
   "metadata": {},
   "source": [
    "Decision tree did not gave us the best prediction.\n",
    "\n",
    "lets try another model that works with high dimentionals feature vectors.\n",
    "\n",
    "# SVC Model"
   ]
  },
  {
   "cell_type": "code",
   "execution_count": 23,
   "metadata": {},
   "outputs": [
    {
     "name": "stdout",
     "output_type": "stream",
     "text": [
      "clf_svc:\n",
      "array of macro avarages of the model is:\n",
      "[0.43283582 0.43283582 0.43283582 0.43609023 0.43609023 0.43181818\n",
      " 0.43181818 0.43181818 0.43181818 0.43181818]\n",
      "mean of all macro f_score is: 0.4329778822905296\n"
     ]
    }
   ],
   "source": [
    "# define first pipeline for svc for reference before tuning\n",
    "print('clf_svc:')\n",
    "text_clf = Pipeline([\n",
    "    ('vect', CountVectorizer(ngram_range=(1,2), max_features=10000, tokenizer=story_tokanize)),\n",
    "    ('norm', preprocessing.Normalizer(norm='l1')),\n",
    "    ('clf_svc', LinearSVC())\n",
    "])\n",
    "model_estimation(text_clf, X, y)"
   ]
  },
  {
   "cell_type": "code",
   "execution_count": 24,
   "metadata": {},
   "outputs": [
    {
     "name": "stdout",
     "output_type": "stream",
     "text": [
      "clf_svc:\n",
      "array of macro avarages of the model is:\n",
      "[0.65948368 0.57212192 0.74400634 0.581698   0.68322981 0.63450292\n",
      " 0.73015873 0.55681818 0.60171569 0.6015246 ]\n",
      "mean of all macro f_score is: 0.6365259870432399\n"
     ]
    }
   ],
   "source": [
    "# define pipeline for svc with ballanced class wight hyperparameter\n",
    "# using count vectorizer\n",
    "# tokenizer implemented using hebrew_tokenizer\n",
    "# using l1 (manhattan) normalizer\n",
    "print('clf_svc:')\n",
    "text_clf = Pipeline([\n",
    "    ('vect', CountVectorizer(max_features=10000, tokenizer=story_tokanize)),\n",
    "    ('norm', preprocessing.Normalizer(norm='l1')),\n",
    "    ('clf_svc', LinearSVC(class_weight='balanced'))\n",
    "])\n",
    "model_estimation(text_clf, X, y)"
   ]
  },
  {
   "cell_type": "code",
   "execution_count": 25,
   "metadata": {},
   "outputs": [
    {
     "name": "stdout",
     "output_type": "stream",
     "text": [
      "clf_svc:\n",
      "array of macro avarages of the model is:\n",
      "[0.65948368 0.5827451  0.73176471 0.56103679 0.66977467 0.64596273\n",
      " 0.71780936 0.5468785  0.63235294 0.6015246 ]\n",
      "mean of all macro f_score is: 0.6349333077729633\n"
     ]
    }
   ],
   "source": [
    "# define pipeline for svc with ballanced class wight hyperparameter\n",
    "# using count vectorizer\n",
    "# tokenizer implemented using hebrew_tokenizer\n",
    "# using l1 (manhattan) normalizer\n",
    "# 1,2gram word vectorization\n",
    "print('clf_svc:')\n",
    "text_clf = Pipeline([\n",
    "    ('vect', CountVectorizer(ngram_range=(1,2), max_features=10000, tokenizer=story_tokanize)),\n",
    "    ('norm', preprocessing.Normalizer(norm='l1')),\n",
    "    ('clf_svc', LinearSVC(class_weight='balanced'))\n",
    "])\n",
    "model_estimation(text_clf, X, y)"
   ]
  },
  {
   "cell_type": "code",
   "execution_count": 26,
   "metadata": {},
   "outputs": [
    {
     "name": "stdout",
     "output_type": "stream",
     "text": [
      "clf_svc:\n",
      "array of macro avarages of the model is:\n",
      "[0.65948368 0.5827451  0.73176471 0.56103679 0.66977467 0.64596273\n",
      " 0.71780936 0.5468785  0.63235294 0.6015246 ]\n",
      "mean of all macro f_score is: 0.6349333077729633\n"
     ]
    }
   ],
   "source": [
    "# define pipeline for svc with ballanced class wight hyperparameter\n",
    "# using count vectorizer\n",
    "# tokenizer implemented using hebrew_tokenizer\n",
    "# using l2 (euclidean) normalizer\n",
    "# 1,2gram word vectorization\n",
    "print('clf_svc:')\n",
    "text_clf = Pipeline([\n",
    "    ('vect', CountVectorizer(ngram_range=(1,2), max_features=10000, tokenizer=story_tokanize)),\n",
    "    ('norm', preprocessing.Normalizer(norm='l1')),\n",
    "    ('clf_svc', LinearSVC(class_weight='balanced'))\n",
    "])\n",
    "model_estimation(text_clf, X, y)"
   ]
  },
  {
   "cell_type": "code",
   "execution_count": 27,
   "metadata": {},
   "outputs": [
    {
     "name": "stdout",
     "output_type": "stream",
     "text": [
      "clf_svc:\n",
      "array of macro avarages of the model is:\n",
      "[0.70881226 0.5621933  0.83296703 0.65770791 0.68220339 0.65770791\n",
      " 0.7668022  0.66124661 0.72049689 0.76165254]\n",
      "mean of all macro f_score is: 0.7011790055133149\n"
     ]
    }
   ],
   "source": [
    "# define pipeline for svc with ballanced class wight hyperparameter\n",
    "# using count vectorizer\n",
    "# tokenizer implemented using hebrew_tokenizer\n",
    "# using l2 (euclidean) normalizer\n",
    "# with 1gram only\n",
    "print('clf_svc:')\n",
    "text_clf = Pipeline([\n",
    "    ('vect', CountVectorizer(max_features=10000, tokenizer=story_tokanize)),\n",
    "    ('norm', preprocessing.Normalizer(norm='l2')),\n",
    "    ('clf_svc', LinearSVC(class_weight='balanced'))\n",
    "])\n",
    "model_estimation(text_clf, X, y)"
   ]
  },
  {
   "cell_type": "code",
   "execution_count": 28,
   "metadata": {},
   "outputs": [
    {
     "name": "stdout",
     "output_type": "stream",
     "text": [
      "clf_svc:\n",
      "array of macro avarages of the model is:\n",
      "[0.73479561 0.58250934 0.77268195 0.65437788 0.68220339 0.65770791\n",
      " 0.73092562 0.66124661 0.72192797 0.79166667]\n",
      "mean of all macro f_score is: 0.6990042947786208\n"
     ]
    }
   ],
   "source": [
    "# define pipeline for svc with ballanced class wight hyperparameter\n",
    "# using count vectorizer\n",
    "# tokenizer implemented using hebrew_tokenizer\n",
    "# using l2 (euclidean) normalizer\n",
    "# with 1,2gram only\n",
    "print('clf_svc:')\n",
    "text_clf = Pipeline([\n",
    "    ('vect', CountVectorizer(ngram_range=(1,2), max_features=10000, tokenizer=story_tokanize)),\n",
    "    ('norm', preprocessing.Normalizer(norm='l2')),\n",
    "    ('clf_svc', LinearSVC(class_weight='balanced'))\n",
    "])\n",
    "model_estimation(text_clf, X, y)"
   ]
  },
  {
   "cell_type": "code",
   "execution_count": 29,
   "metadata": {},
   "outputs": [
    {
     "name": "stdout",
     "output_type": "stream",
     "text": [
      "clf_svc:\n",
      "array of macro avarages of the model is:\n",
      "[0.73479561 0.63809524 0.77268195 0.65437788 0.68220339 0.65770791\n",
      " 0.74415205 0.66124661 0.74747475 0.79166667]\n",
      "mean of all macro f_score is: 0.7084402059549856\n"
     ]
    }
   ],
   "source": [
    "# define pipeline for svc with ballanced class wight hyperparameter\n",
    "# using count vectorizer\n",
    "# tokenizer implemented using hebrew_tokenizer\n",
    "# using l2 (euclidean) normalizer\n",
    "# with 1,2,3gram only\n",
    "print('clf_svc:')\n",
    "text_clf = Pipeline([\n",
    "    ('vect', CountVectorizer(ngram_range=(1,3), max_features=10000, tokenizer=story_tokanize)),\n",
    "    ('norm', preprocessing.Normalizer(norm='l2')),\n",
    "    ('clf_svc', LinearSVC(class_weight='balanced'))\n",
    "])\n",
    "model_estimation(text_clf, X, y)"
   ]
  },
  {
   "cell_type": "code",
   "execution_count": 30,
   "metadata": {},
   "outputs": [
    {
     "name": "stdout",
     "output_type": "stream",
     "text": [
      "clf_svc:\n",
      "array of macro avarages of the model is:\n",
      "[0.73479561 0.59285714 0.78711485 0.65437788 0.69503931 0.68220339\n",
      " 0.77180527 0.66124661 0.74747475 0.76489028]\n",
      "mean of all macro f_score is: 0.7091805093922081\n"
     ]
    }
   ],
   "source": [
    "# define pipeline for svc with ballanced class wight hyperparameter\n",
    "# using count vectorizer\n",
    "# tokenizer implemented using hebrew_tokenizer\n",
    "# using l2 (euclidean) normalizer\n",
    "# with 1,2,3gram only\n",
    "# got max feachers up to 15k\n",
    "print('clf_svc:')\n",
    "text_clf = Pipeline([\n",
    "    ('vect', CountVectorizer(ngram_range=(1,3), max_features=15000, tokenizer=story_tokanize)),\n",
    "    ('norm', preprocessing.Normalizer(norm='l2')),\n",
    "    ('clf_svc', LinearSVC(class_weight='balanced'))\n",
    "])\n",
    "model_estimation(text_clf, X, y)"
   ]
  },
  {
   "cell_type": "markdown",
   "metadata": {},
   "source": [
    "so far the best f1 was for the cell above 70.9%\n",
    "\n",
    "lets try tfidf vectorization"
   ]
  },
  {
   "cell_type": "code",
   "execution_count": 31,
   "metadata": {},
   "outputs": [
    {
     "name": "stdout",
     "output_type": "stream",
     "text": [
      "clf_svc:\n",
      "array of macro avarages of the model is:\n",
      "[0.69354839 0.70928962 0.61577351 0.73653396 0.65277778 0.61607949\n",
      " 0.67431762 0.6031746  0.72084367 0.62713068]\n",
      "mean of all macro f_score is: 0.6649469318244504\n"
     ]
    }
   ],
   "source": [
    "# define pipeline for svc with ballanced class wight hyperparameter\n",
    "# using tfidf vectorizer\n",
    "# tokenizer implemented using hebrew_tokenizer\n",
    "# using l2 (euclidean) normalizer\n",
    "# with 1,2,3gram only\n",
    "# got max feachers up to 15k\n",
    "print('clf_svc:')\n",
    "text_clf = Pipeline([\n",
    "    ('vect', TfidfVectorizer(ngram_range=(1,3), max_features=15000, tokenizer=story_tokanize)),\n",
    "    ('norm', preprocessing.Normalizer(norm='l2')),\n",
    "    ('clf_svc', LinearSVC(class_weight='balanced'))\n",
    "])\n",
    "model_estimation(text_clf, X, y)"
   ]
  },
  {
   "cell_type": "code",
   "execution_count": 32,
   "metadata": {
    "scrolled": true
   },
   "outputs": [
    {
     "name": "stdout",
     "output_type": "stream",
     "text": [
      "clf_svc:\n",
      "array of macro avarages of the model is:\n",
      "[0.69354839 0.70928962 0.70725926 0.72214306 0.67431762 0.64871194\n",
      " 0.70641373 0.64       0.70641373 0.70238095]\n",
      "mean of all macro f_score is: 0.6910478300192244\n"
     ]
    }
   ],
   "source": [
    "# define pipeline for svc with ballanced class wight hyperparameter\n",
    "# using tfidf vectorizer\n",
    "# tokenizer implemented using hebrew_tokenizer\n",
    "# using l2 (euclidean) normalizer\n",
    "# with 1,2,3gram only\n",
    "# got max feachers down to 10k\n",
    "print('clf_svc:')\n",
    "text_clf = Pipeline([\n",
    "    ('vect', TfidfVectorizer(ngram_range=(1,3), max_features=10000, tokenizer=story_tokanize)),\n",
    "    ('norm', preprocessing.Normalizer(norm='l2')),\n",
    "    ('clf_svc', LinearSVC(class_weight='balanced'))\n",
    "])\n",
    "model_estimation(text_clf, X, y)"
   ]
  },
  {
   "cell_type": "markdown",
   "metadata": {},
   "source": [
    "not to bad but the last count vectorizer was a bit better.\n",
    "\n",
    "going back to the best pipeline combination found and try to tune parameters."
   ]
  },
  {
   "cell_type": "code",
   "execution_count": 33,
   "metadata": {},
   "outputs": [
    {
     "name": "stdout",
     "output_type": "stream",
     "text": [
      "clf_svc:\n",
      "array of macro avarages of the model is:\n",
      "[0.68421053 0.57371795 0.78290486 0.63624339 0.68220339 0.65917245\n",
      " 0.72288633 0.581643   0.71054889 0.65437788]\n",
      "mean of all macro f_score is: 0.6687908650315103\n"
     ]
    }
   ],
   "source": [
    "# C = 0.1 (defoult 1)\n",
    "# using the best performance found before:\n",
    "    # define pipeline for svc with ballanced class wight hyperparameter\n",
    "    # using count vectorizer\n",
    "    # tokenizer implemented using hebrew_tokenizer\n",
    "    # using l2 (euclidean) normalizer\n",
    "    # with 1,2,3gram only\n",
    "    # got max feachers up to 15k\n",
    "\n",
    "print('clf_svc:')\n",
    "text_clf = Pipeline([\n",
    "    ('vect', CountVectorizer(ngram_range=(1,3), max_features=15000, tokenizer=story_tokanize)),\n",
    "    ('norm', preprocessing.Normalizer(norm='l2')),\n",
    "    ('clf_svc', LinearSVC(class_weight='balanced', C=0.1))\n",
    "])\n",
    "model_estimation(text_clf, X, y)"
   ]
  },
  {
   "cell_type": "code",
   "execution_count": 34,
   "metadata": {},
   "outputs": [
    {
     "name": "stdout",
     "output_type": "stream",
     "text": [
      "clf_svc:\n",
      "array of macro avarages of the model is:\n",
      "[0.68333333 0.56458333 0.69354839 0.67939584 0.64       0.65437788\n",
      " 0.69503931 0.69262295 0.66666667 0.72084367]\n",
      "mean of all macro f_score is: 0.6690411369206133\n"
     ]
    }
   ],
   "source": [
    "# C = 10 (defoult 1)\n",
    "# using the best performance found before:\n",
    "    # define pipeline for svc with ballanced class wight hyperparameter\n",
    "    # using count vectorizer\n",
    "    # tokenizer implemented using hebrew_tokenizer\n",
    "    # using l2 (euclidean) normalizer\n",
    "    # with 1,2,3gram only\n",
    "    # got max feachers up to 15k\n",
    "\n",
    "print('clf_svc:')\n",
    "text_clf = Pipeline([\n",
    "    ('vect', CountVectorizer(ngram_range=(1,3), max_features=15000, tokenizer=story_tokanize)),\n",
    "    ('norm', preprocessing.Normalizer(norm='l2')),\n",
    "    ('clf_svc', LinearSVC(class_weight='balanced', C=10))\n",
    "])\n",
    "model_estimation(text_clf, X, y)"
   ]
  },
  {
   "cell_type": "markdown",
   "metadata": {},
   "source": [
    "# Final classifier we got is the following with the best macro f1 score:\n",
    "\n",
    "define pipeline for svc with ballanced class wight hyperparameter\n",
    "\n",
    "using count vectorizer\n",
    "\n",
    "tokenizer implemented using hebrew_tokenizer\n",
    "\n",
    "using l2 (euclidean) normalizer\n",
    "\n",
    "with 1,2,3gram only\n",
    "\n",
    "got max feachers up to 15k"
   ]
  },
  {
   "cell_type": "code",
   "execution_count": 35,
   "metadata": {},
   "outputs": [
    {
     "name": "stdout",
     "output_type": "stream",
     "text": [
      "array of macro avarages of the model is:\n",
      "[0.73479561 0.59285714 0.78711485 0.65437788 0.69503931 0.68220339\n",
      " 0.77180527 0.66124661 0.74747475 0.76489028]\n",
      "mean of all macro f_score is: 0.7091805093922081\n"
     ]
    }
   ],
   "source": [
    "final_text_clf = Pipeline([\n",
    "    ('vect', CountVectorizer(ngram_range=(1,3), max_features=15000, tokenizer=story_tokanize)),\n",
    "    ('norm', preprocessing.Normalizer(norm='l2')),\n",
    "    ('clf_svc', LinearSVC(class_weight='balanced'))\n",
    "])\n",
    "model_estimation(final_text_clf, X, y)"
   ]
  },
  {
   "cell_type": "markdown",
   "metadata": {},
   "source": [
    "# final check of the classifier with hold out\n",
    "\n",
    "just to be sure*"
   ]
  },
  {
   "cell_type": "code",
   "execution_count": 36,
   "metadata": {},
   "outputs": [
    {
     "data": {
      "text/plain": [
       "Pipeline(steps=[('vect',\n",
       "                 CountVectorizer(max_features=15000, ngram_range=(1, 3),\n",
       "                                 tokenizer=<function story_tokanize at 0x0000016E42657430>)),\n",
       "                ('norm', Normalizer()),\n",
       "                ('clf_svc', LinearSVC(class_weight='balanced'))])"
      ]
     },
     "execution_count": 36,
     "metadata": {},
     "output_type": "execute_result"
    }
   ],
   "source": [
    "X_train, X_test, y_train, y_test = train_test_split(\n",
    "    df_train.story, y, test_size=0.20, random_state=42)\n",
    "final_text_clf.fit(X_train,y_train)"
   ]
  },
  {
   "cell_type": "code",
   "execution_count": 37,
   "metadata": {},
   "outputs": [],
   "source": [
    "y_pred = final_text_clf.predict(X_test)"
   ]
  },
  {
   "cell_type": "code",
   "execution_count": 38,
   "metadata": {},
   "outputs": [
    {
     "data": {
      "text/plain": [
       "0.6773504273504274"
      ]
     },
     "execution_count": 38,
     "metadata": {},
     "output_type": "execute_result"
    }
   ],
   "source": [
    "f1_score(y_true=y_test, y_pred=y_pred, average='macro')"
   ]
  },
  {
   "cell_type": "markdown",
   "metadata": {},
   "source": [
    "#  Training of the Final model with the train set"
   ]
  },
  {
   "cell_type": "code",
   "execution_count": 39,
   "metadata": {},
   "outputs": [
    {
     "data": {
      "text/plain": [
       "Pipeline(steps=[('vect',\n",
       "                 CountVectorizer(max_features=15000, ngram_range=(1, 3),\n",
       "                                 tokenizer=<function story_tokanize at 0x0000016E42657430>)),\n",
       "                ('norm', Normalizer()),\n",
       "                ('clf_svc', LinearSVC(class_weight='balanced'))])"
      ]
     },
     "execution_count": 39,
     "metadata": {},
     "output_type": "execute_result"
    },
    {
     "data": {
      "text/plain": [
       "array([0, 0, 0, 0, 1, 0, 0, 1, 0, 0, 1, 0, 1, 0, 1, 0, 0, 0, 1, 0, 1, 0,\n",
       "       0, 1, 0, 0, 0, 1, 0, 0, 0, 0, 1, 0, 1, 1, 0, 1, 0, 0, 1, 0, 0, 0,\n",
       "       0, 0, 0, 0, 0, 0, 1, 0, 1, 1, 0, 0, 0, 0, 1, 0, 0, 0, 0, 1, 1, 0,\n",
       "       0, 0, 1, 0, 0, 0, 0, 1, 1, 0, 0, 0, 0, 0, 0, 0, 0, 0, 0, 0, 0, 1,\n",
       "       0, 0, 0, 1, 0, 0, 1, 0, 0, 0, 0, 1, 0, 0, 0, 1, 0, 0, 0, 0, 0, 0,\n",
       "       0, 0, 1, 0, 0, 0, 0, 0, 0, 0, 0, 0, 0, 0, 0, 1, 0, 1, 0, 0, 0, 0,\n",
       "       0, 0, 1, 1, 0, 0, 1, 0, 0, 1, 1, 1, 0, 0, 0, 0, 0, 1, 0, 0, 0, 1,\n",
       "       0, 0, 0, 0, 0, 0, 0, 0, 0, 0, 0, 1, 0, 0, 0, 0, 0, 0, 0, 0, 0, 0,\n",
       "       0, 0, 0, 0, 0, 0, 0, 0, 1, 0, 0, 0, 1, 0, 0, 0, 0, 0, 0, 0, 0, 0,\n",
       "       0, 1, 0, 1, 0, 0, 0, 0, 0, 0, 1, 0, 0, 0, 0, 1, 0, 0, 0, 0, 0, 0,\n",
       "       1, 0, 1, 0, 0, 0, 0, 0, 0, 1, 0, 0, 0, 0, 0, 0, 1, 0, 0, 0, 1, 1,\n",
       "       0, 0, 0, 0, 0, 0, 1, 0, 0, 0, 1, 1, 0, 1, 0, 1, 1, 0, 0, 0, 0, 0,\n",
       "       1, 1, 0, 1, 0, 0, 0, 0, 0, 0, 0, 0, 1, 1, 0, 0, 0, 0, 0, 0, 0, 0,\n",
       "       0, 1, 0, 1, 0, 1, 0, 0, 0, 0, 0, 0, 1, 0, 0, 0, 0, 0, 0, 0, 0, 0,\n",
       "       0, 0, 1, 0, 0, 0, 1, 0, 0, 0, 0, 0, 0, 0, 0], dtype=int64)"
      ]
     },
     "execution_count": 39,
     "metadata": {},
     "output_type": "execute_result"
    }
   ],
   "source": [
    "# fit\n",
    "final_text_clf.fit(X,y)\n",
    "# predict - 0=m , 1=f\n",
    "pred_test_0_1 = final_text_clf.predict(df_test.story)\n",
    "pred_test_0_1"
   ]
  },
  {
   "cell_type": "code",
   "execution_count": 40,
   "metadata": {},
   "outputs": [
    {
     "data": {
      "text/plain": [
       "0      m\n",
       "1      m\n",
       "2      m\n",
       "3      m\n",
       "4      f\n",
       "      ..\n",
       "318    m\n",
       "319    m\n",
       "320    m\n",
       "321    m\n",
       "322    m\n",
       "Name: predicted_category, Length: 323, dtype: object"
      ]
     },
     "execution_count": 40,
     "metadata": {},
     "output_type": "execute_result"
    }
   ],
   "source": [
    "# transforming the binary array to m/f series.\n",
    "pred_test = pd.Series(pred_test_0_1, name='predicted_category').replace({0:'m',1:'f'})\n",
    "pred_test"
   ]
  },
  {
   "cell_type": "code",
   "execution_count": 41,
   "metadata": {},
   "outputs": [
    {
     "data": {
      "text/html": [
       "<div>\n",
       "<style scoped>\n",
       "    .dataframe tbody tr th:only-of-type {\n",
       "        vertical-align: middle;\n",
       "    }\n",
       "\n",
       "    .dataframe tbody tr th {\n",
       "        vertical-align: top;\n",
       "    }\n",
       "\n",
       "    .dataframe thead th {\n",
       "        text-align: right;\n",
       "    }\n",
       "</style>\n",
       "<table border=\"1\" class=\"dataframe\">\n",
       "  <thead>\n",
       "    <tr style=\"text-align: right;\">\n",
       "      <th></th>\n",
       "      <th>test_example_id</th>\n",
       "      <th>predicted_category</th>\n",
       "    </tr>\n",
       "  </thead>\n",
       "  <tbody>\n",
       "    <tr>\n",
       "      <th>0</th>\n",
       "      <td>0</td>\n",
       "      <td>m</td>\n",
       "    </tr>\n",
       "    <tr>\n",
       "      <th>1</th>\n",
       "      <td>1</td>\n",
       "      <td>m</td>\n",
       "    </tr>\n",
       "    <tr>\n",
       "      <th>2</th>\n",
       "      <td>2</td>\n",
       "      <td>m</td>\n",
       "    </tr>\n",
       "    <tr>\n",
       "      <th>3</th>\n",
       "      <td>3</td>\n",
       "      <td>m</td>\n",
       "    </tr>\n",
       "    <tr>\n",
       "      <th>4</th>\n",
       "      <td>4</td>\n",
       "      <td>f</td>\n",
       "    </tr>\n",
       "    <tr>\n",
       "      <th>...</th>\n",
       "      <td>...</td>\n",
       "      <td>...</td>\n",
       "    </tr>\n",
       "    <tr>\n",
       "      <th>318</th>\n",
       "      <td>318</td>\n",
       "      <td>m</td>\n",
       "    </tr>\n",
       "    <tr>\n",
       "      <th>319</th>\n",
       "      <td>319</td>\n",
       "      <td>m</td>\n",
       "    </tr>\n",
       "    <tr>\n",
       "      <th>320</th>\n",
       "      <td>320</td>\n",
       "      <td>m</td>\n",
       "    </tr>\n",
       "    <tr>\n",
       "      <th>321</th>\n",
       "      <td>321</td>\n",
       "      <td>m</td>\n",
       "    </tr>\n",
       "    <tr>\n",
       "      <th>322</th>\n",
       "      <td>322</td>\n",
       "      <td>m</td>\n",
       "    </tr>\n",
       "  </tbody>\n",
       "</table>\n",
       "<p>323 rows × 2 columns</p>\n",
       "</div>"
      ],
      "text/plain": [
       "     test_example_id predicted_category\n",
       "0                  0                  m\n",
       "1                  1                  m\n",
       "2                  2                  m\n",
       "3                  3                  m\n",
       "4                  4                  f\n",
       "..               ...                ...\n",
       "318              318                  m\n",
       "319              319                  m\n",
       "320              320                  m\n",
       "321              321                  m\n",
       "322              322                  m\n",
       "\n",
       "[323 rows x 2 columns]"
      ]
     },
     "execution_count": 41,
     "metadata": {},
     "output_type": "execute_result"
    }
   ],
   "source": [
    "# concatenation of the original indexes from test data to the results as requested.\n",
    "df_predicted = pd.concat([df_test.test_example_id, pred_test], axis=1)\n",
    "# show 5 first and last predictions.\n",
    "df_predicted"
   ]
  },
  {
   "cell_type": "markdown",
   "metadata": {},
   "source": [
    "### Save output to csv (optional)\n",
    "After you're done save your output to the 'classification_results.csv' csv file.<br/>\n",
    "We assume that the dataframe with your results contain the following columns:\n",
    "* column 1 (left column): 'test_example_id'  - the same id associated to each of the test stories to be predicted.\n",
    "* column 2 (right column): 'predicted_category' - the predicted gender value for each of the associated story. \n",
    "\n",
    "Assuming your predicted values are in the `df_predicted` dataframe, you should save you're results as following:"
   ]
  },
  {
   "cell_type": "code",
   "execution_count": 42,
   "metadata": {},
   "outputs": [],
   "source": [
    "df_predicted.to_csv('classification_results.csv',index=False)"
   ]
  },
  {
   "cell_type": "code",
   "execution_count": null,
   "metadata": {},
   "outputs": [],
   "source": []
  },
  {
   "cell_type": "code",
   "execution_count": null,
   "metadata": {},
   "outputs": [],
   "source": []
  },
  {
   "cell_type": "code",
   "execution_count": null,
   "metadata": {},
   "outputs": [],
   "source": []
  }
 ],
 "metadata": {
  "celltoolbar": "Create Assignment",
  "kernelspec": {
   "display_name": "Python 3 (ipykernel)",
   "language": "python",
   "name": "python3"
  },
  "language_info": {
   "codemirror_mode": {
    "name": "ipython",
    "version": 3
   },
   "file_extension": ".py",
   "mimetype": "text/x-python",
   "name": "python",
   "nbconvert_exporter": "python",
   "pygments_lexer": "ipython3",
   "version": "3.9.13"
  }
 },
 "nbformat": 4,
 "nbformat_minor": 4
}
